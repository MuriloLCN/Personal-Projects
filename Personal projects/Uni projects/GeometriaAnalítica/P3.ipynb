{
 "cells": [
  {
   "cell_type": "markdown",
   "metadata": {},
   "source": [
    "#### Aluno: Murilo Luis Calvo Neves\n",
    "\n",
    "#### RA: 129037\n",
    "\n",
    "#### Data: 29/20/22"
   ]
  },
  {
   "cell_type": "markdown",
   "metadata": {},
   "source": [
    "# Exercícios parábolas\n",
    "\n",
    "## 27) Heurística:\n",
    "\n",
    "### Caso geral:\n",
    "\n",
    "Para determinar o parâmetro de uma equação geral, primeiramente precisamos colocá-la em uma forma fatorada\n",
    "\n",
    "Para isto, vamos completar quadrados com a equação geral.\n",
    "\n",
    "*(O processo é análogo para $y^2$)*\n",
    "\n",
    "Temos $ax^2 + bx + cy + d = 0$\n",
    "\n",
    "Primeiramente vamos dividir todos os coeficientes por $a$, o que deixa nossa equação como:\n",
    "\n",
    "$x^2 + px + qy + r = 0$\n",
    "\n",
    "a partir disto, podemos adicionar $(\\frac{p}{2})^2$ à equação e subtrair o mesmo de $r$, com isto obtemos, após fatorar:\n",
    "\n",
    "$x^2 + px + (\\frac{p}{2})^2 + qy + (r-(\\frac{p}{2})^2) = 0$\n",
    "\n",
    "$(x+\\frac{p}{2})^2 + qy + (r-(\\frac{p}{2})^2) = 0$\n",
    "\n",
    "Vamos chamar $\\frac{p}{2}$ de $t$ e $r-(\\frac{p}{2})^2$ de $s$, assim temos:\n",
    "\n",
    "$(x+t)^2 + qy + s = 0$\n",
    "\n",
    "Alternando os termos da equação, obtemos:\n",
    "\n",
    "$(x+t)^2 = -qy - s$\n",
    "\n",
    "$(x+t)^2 = -q(y+\\frac{s}{q})$\n",
    "\n",
    "Logo, nossa equação está na forma que buscamos, agora podemos obter algumas informaçoes:\n",
    "\n",
    "parâmetro = $\\frac{-q}{2}$\n",
    "\n",
    "h (deslocamento em x) = $-t$\n",
    "\n",
    "k (deslocamento em y) = $\\frac{-s}{q}$\n",
    "\n",
    "Com isto, obtemos nosso vertice como sendo $(h,k)$, nosso foco como sendo $(h,k+\\frac{p}{2})$ e nosso eixo como sendo $y=k-\\frac{p}{2}$\n",
    "\n",
    "A partir disso, podemos apenas aplicar isto ao enunciado:\n",
    "\n",
    "$x^{2} + 4x - 8y + 12 = 0$\n",
    "\n",
    "E determinar os elementos pedidos"
   ]
  },
  {
   "cell_type": "code",
   "execution_count": 2,
   "metadata": {},
   "outputs": [
    {
     "name": "stdout",
     "output_type": "stream",
     "text": [
      "Insira os coeficientes da equação geral separados por vírgula: \n",
      "Caso do livro: [1,4,-8,12]\n",
      "1,4,-8,12\n",
      "[1.0, 4.0, -8.0, 12.0]\n"
     ]
    },
    {
     "data": {
      "text/markdown": [
       "Parâmetro $p = 4.0$"
      ],
      "text/plain": [
       "<IPython.core.display.Markdown object>"
      ]
     },
     "metadata": {},
     "output_type": "display_data"
    },
    {
     "data": {
      "text/markdown": [
       "$h = -2.0$"
      ],
      "text/plain": [
       "<IPython.core.display.Markdown object>"
      ]
     },
     "metadata": {},
     "output_type": "display_data"
    },
    {
     "data": {
      "text/markdown": [
       "$k = 1.0$"
      ],
      "text/plain": [
       "<IPython.core.display.Markdown object>"
      ]
     },
     "metadata": {},
     "output_type": "display_data"
    },
    {
     "data": {
      "text/markdown": [
       "A equação reduzida é: $(x+2.0)^2 = 8.0(y-1.0)$"
      ],
      "text/plain": [
       "<IPython.core.display.Markdown object>"
      ]
     },
     "metadata": {},
     "output_type": "display_data"
    },
    {
     "data": {
      "text/markdown": [
       "O vertice é: $[-2.0, 1.0]$"
      ],
      "text/plain": [
       "<IPython.core.display.Markdown object>"
      ]
     },
     "metadata": {},
     "output_type": "display_data"
    },
    {
     "data": {
      "text/markdown": [
       "O foco é: $[-2.0, 2.0]$"
      ],
      "text/plain": [
       "<IPython.core.display.Markdown object>"
      ]
     },
     "metadata": {},
     "output_type": "display_data"
    },
    {
     "data": {
      "text/markdown": [
       "O eixo é: $y = 0.0$"
      ],
      "text/plain": [
       "<IPython.core.display.Markdown object>"
      ]
     },
     "metadata": {},
     "output_type": "display_data"
    }
   ],
   "source": [
    "from IPython.display import Markdown, display  # Biblioteca do jupyter para printar markdown\n",
    "\n",
    "def dividirVetor(n: float, v: list) -> list:\n",
    "    return [(i / n) for i in v]\n",
    "\n",
    "def printmd(string: str): \n",
    "    # Print com markdown (para deixar curto os comandos)\n",
    "    display(Markdown(string))\n",
    "\n",
    "def main():\n",
    "    # Vetor com os coeficientes da equação geral\n",
    "    # Forma: ax^2 + bx + cy + d = 0 ou ay^2 + bx + cy + d = 0\n",
    "    print(\"Insira os coeficientes da equação geral separados por vírgula: \")\n",
    "    print(\"Caso do livro: [1,4,-8,12]\")\n",
    "    equacaoGeral = list(map(float,(i for i in input().split(','))))\n",
    "    print(equacaoGeral)\n",
    "    # equacaoGeral = [1,4,-8,12]\n",
    "    variavelAoQuadrado = 'x'\n",
    "    \n",
    "    # Dividindo todos os coeficientes por 'a'\n",
    "    equacaoGeral = dividirVetor(equacaoGeral[0], equacaoGeral)\n",
    "    \n",
    "    if variavelAoQuadrado == 'x':\n",
    "        p = equacaoGeral[1]/2\n",
    "        termoSolto = equacaoGeral[2]\n",
    "    else:\n",
    "        p = equacaoGeral[2]/2\n",
    "        termoSolto = equacaoGeral[1]\n",
    "\n",
    "    completSqr = p^2\n",
    "    \n",
    "    equacaoGeral[-1] -= completSqr\n",
    "    \n",
    "    t = p\n",
    "    s = equacaoGeral[-1]\n",
    "    \n",
    "    parametro = (-1) * (termoSolto / 2)\n",
    "    h = -t\n",
    "    k = -s / termoSolto\n",
    "    \n",
    "    printmd(f\"Parâmetro $p = {parametro}$\")\n",
    "    printmd(f\"$h = {h}$\")\n",
    "    printmd(f\"$k = {k}$\")\n",
    "    \n",
    "    if variavelAoQuadrado == 'x':\n",
    "        eqReduzida = f\"$(x-{h})^{2} = {2*parametro}(y-{k})$\".replace('--', '+')\n",
    "        vertice = [h,k]\n",
    "        foco = [h, k + p/2]\n",
    "        eixo = f\"y = {k - p/2}\"\n",
    "    else:\n",
    "        eqReduzida = f\"$(y-{k})^{2} = {2*parametro}(x-{h})$\".replace('--', '+')\n",
    "        vertice = [h,k]\n",
    "        foco = [h + p/2, k]\n",
    "        eixo = f\"x = {k - p/2}\"\n",
    "    \n",
    "    \n",
    "    printmd(f\"A equação reduzida é: {eqReduzida}\")\n",
    "    printmd(f\"O vertice é: ${vertice}$\")\n",
    "    printmd(f\"O foco é: ${foco}$\")\n",
    "    printmd(f\"O eixo é: ${eixo}$\")\n",
    "    \n",
    "main()"
   ]
  },
  {
   "cell_type": "markdown",
   "metadata": {},
   "source": [
    "## 37) Heurística: \n",
    "\n",
    "Como temos nosso eixo de simetria paralelo ao eixo `y`, temos que a nossa parábola possui equação com o termo `x` ao quadrado.\n",
    "\n",
    "Como sabemos 3 pontos pelo qual a parábola passa, podemos montar um sistemas de equações para resolver pelos termos da parábola.\n",
    "\n",
    "Nossa equação: $(x-h)^2=2p(y-k)$\n",
    "\n",
    "Como temos 3 pontos e 3 incógnitas, podemos achar as soluções para `h`,`k` e `p`, e com isto construir nossa equação explícita."
   ]
  },
  {
   "cell_type": "code",
   "execution_count": 8,
   "metadata": {},
   "outputs": [
    {
     "name": "stdout",
     "output_type": "stream",
     "text": [
      "Insira os pontos pelo qual a parábola passa, separados por vígula: \n",
      "Caso do livro: '[-2,0],[0,4],[4,0]'\n",
      "[-2,0],[0,4],[4,0],[250,0]\n",
      "Não há solução que passe pelos pontos dados\n"
     ]
    }
   ],
   "source": [
    "from IPython.display import Markdown, display\n",
    "\n",
    "def printmd(string: str): \n",
    "    display(Markdown(string))\n",
    "    \n",
    "def main():\n",
    "    h,k,p,x,y = var('h','k','p','x','y')\n",
    "    \n",
    "    # Pontos pelo qual a parábola passa\n",
    "    pontos = []\n",
    "    print(\"Insira os pontos pelo qual a parábola passa, separados por vígula: \")\n",
    "    print(\"Caso do livro: '[-2,0],[0,4],[4,0]'\")\n",
    "    \n",
    "    txt = input().replace('[','').replace(']','').split(',')\n",
    "    \n",
    "    for i in range(0,len(txt),2):\n",
    "        pontos.append([float(txt[i]),float(txt[i+1])])\n",
    "    \n",
    "    #pontos.append([-2,0])\n",
    "    #pontos.append([0,4])\n",
    "    #pontos.append([4,0])\n",
    "    \n",
    "    eqs = []\n",
    "    for pto in pontos:\n",
    "        eqs.append((pto[0]-h)^2 == 2 * p * (pto[1]-k))\n",
    "    \n",
    "    # Resolvendo para h,k e p\n",
    "    sol = solve(eqs,[h,k,p])\n",
    "    \n",
    "    try:\n",
    "        dh = sol[0][0].rhs()\n",
    "        dk = sol[0][1].rhs()\n",
    "        parametro = sol[0][2].rhs()\n",
    "    except IndexError:\n",
    "        print(\"Não há solução que passe pelos pontos dados\")\n",
    "        return\n",
    "\n",
    "    printmd(f\"Parâmetro $p = {parametro}$\")\n",
    "    printmd(f\"$h = {dh}$\")\n",
    "    printmd(f\"$k = {dk}$\")\n",
    "    \n",
    "    eqExpandida = (x-dh)^2 == 2*p*(y-dk) \n",
    "    eqExpandida = eqExpandida.subs(h=dh,k=dk,p=parametro).expand()\n",
    "    \n",
    "    # Jogando todos os termos para um lado só\n",
    "    eqFinal = eqExpandida.lhs() - eqExpandida.rhs() == 0\n",
    "    \n",
    "    printmd(f\"Equação expandida: ${str(eqFinal)}$\".replace('==','=').replace('*',''))\n",
    "    \n",
    "    eqReduzida = f\"Equação reduzida: $(x-{dh})^{2} = {2*parametro}(y-{dk})$\".replace('--', '+')\n",
    "    \n",
    "    printmd(eqReduzida)\n",
    "        \n",
    "main()"
   ]
  },
  {
   "cell_type": "markdown",
   "metadata": {},
   "source": [
    "## 47) Heurística: \n",
    "\n",
    "Como possuimos as coordenadas do vértice e do foco, podemos calcular o parâmetro e o deslocamento da parábola, com isto,\n",
    "podemos achar a equação que descreve a parábola e verificar quando que esta intercepta o eixo `y`, i.e, `x=0`."
   ]
  },
  {
   "cell_type": "code",
   "execution_count": 11,
   "metadata": {},
   "outputs": [
    {
     "name": "stdout",
     "output_type": "stream",
     "text": [
      "Insira as coordenadas do vertice (caso do livro: '-2,0'):\n",
      "2,0\n",
      "Insira as coordenadas do foco (caso do livro: '0,0'):\n",
      "4,0\n"
     ]
    },
    {
     "data": {
      "text/markdown": [
       "Equação da parábola: $y^2 = 4.0x - 8.0$"
      ],
      "text/plain": [
       "<IPython.core.display.Markdown object>"
      ]
     },
     "metadata": {},
     "output_type": "display_data"
    },
    {
     "data": {
      "text/markdown": [
       "A parábola intercepta o eixo Y no ponto: $[0,-2I\\sqrt{2}]$"
      ],
      "text/plain": [
       "<IPython.core.display.Markdown object>"
      ]
     },
     "metadata": {},
     "output_type": "display_data"
    },
    {
     "data": {
      "text/markdown": [
       "A parábola intercepta o eixo Y no ponto: $[0,2I\\sqrt{2}]$"
      ],
      "text/plain": [
       "<IPython.core.display.Markdown object>"
      ]
     },
     "metadata": {},
     "output_type": "display_data"
    }
   ],
   "source": [
    "from IPython.display import Markdown, display  \n",
    "\n",
    "def printmd(string: str): \n",
    "    display(Markdown(string))\n",
    "    \n",
    "def main():\n",
    "    #vertice = [-2,0]\n",
    "    #foco = [0,0]\n",
    "    \n",
    "    print(\"Insira as coordenadas do vertice (caso do livro: '-2,0'):\")\n",
    "    vertice = list(map(float,input().split(',')))\n",
    "    \n",
    "    print(\"Insira as coordenadas do foco (caso do livro: '0,0'):\")\n",
    "    foco = list(map(float,input().split(',')))\n",
    "    \n",
    "    # Como as duas coordenadas 'y' do vertice e do foco são iguais, seu eixo é paralelo a Ox, logo ela possui y^2\n",
    "    parametro = foco[0] - vertice[0]\n",
    "    \n",
    "    x,y,p = var('x','y','p')\n",
    "    \n",
    "    eqParabola = (y - vertice[1])^2 == 2 * p * (x - vertice[0])\n",
    "    eqParabola = eqParabola.subs(p=parametro)\n",
    "    \n",
    "    printmd(f\"Equação da parábola: ${str(eqParabola).replace('==','=').replace('*','')}$\")\n",
    "    \n",
    "    coordenada = solve(eqParabola.subs(x=0),y)\n",
    "    \n",
    "    for pto in coordenada:\n",
    "        # Usado para printar bonitinho a raiz quadrada do ponto\n",
    "        # No sage: 'k*sqrt(n)'\n",
    "        # Em markdown deve ser: 'k*\\sqrt{n}'\n",
    "        # Então trocamos os parênteses por chaves e 'sqrt' por '\\\\sqrt'\n",
    "        txtoPonto = str(pto.rhs()).replace('(','{').replace(')','}')\n",
    "        txtoPonto = txtoPonto.replace('sqrt','\\\\sqrt')\n",
    "\n",
    "        printmd(f\"A parábola intercepta o eixo Y no ponto: ${'[0,' + txtoPonto + ']'}$\".replace('*',''))\n",
    "    \n",
    "main()"
   ]
  },
  {
   "cell_type": "markdown",
   "metadata": {},
   "source": [
    "# Exercícios elipses"
   ]
  },
  {
   "cell_type": "markdown",
   "metadata": {},
   "source": [
    "### 27) Heurística: \n",
    "\n",
    "Como nossa elipse é tangente aos eixos coordenados, temos que a distância de seu centro até cada eixo coordenado é igual ao tamanho do seu semieixo correspondente, i.e, a e b\n",
    "\n",
    "A partir disto, possuimos informações suficientes para obter a equação da elipse, em particular, buscamos a de centro $[2,-1]$\n"
   ]
  },
  {
   "cell_type": "code",
   "execution_count": 12,
   "metadata": {},
   "outputs": [
    {
     "name": "stdout",
     "output_type": "stream",
     "text": [
      "Insira o centro da elipse (caso do livro: '2,-1'): \n",
      "2,-1\n"
     ]
    },
    {
     "data": {
      "text/markdown": [
       "A equação da elipse com centro em $[2.0, -1.0]$ e tangente aos eixos coordenados é: $\\frac{{(x-2.0)}^{2}}{4.0} + \\frac{{(y+1.0)}^{2}}{1.0} = 1$"
      ],
      "text/plain": [
       "<IPython.core.display.Markdown object>"
      ]
     },
     "metadata": {},
     "output_type": "display_data"
    },
    {
     "data": {
      "image/png": "[encoded data removed]",
      "text/plain": [
       "Graphics object consisting of 1 graphics primitive"
      ]
     },
     "metadata": {},
     "output_type": "display_data"
    }
   ],
   "source": [
    "from IPython.display import Markdown, display\n",
    "\n",
    "def printmd(string: str): \n",
    "    display(Markdown(string))\n",
    "    \n",
    "def main():\n",
    "    # centro = [2,-1]\n",
    "    print(\"Insira o centro da elipse (caso do livro: '2,-1'): \")\n",
    "    centro = list(map(float,input().split(',')))\n",
    "    \n",
    "    semieixoMaior = abs(centro[0])\n",
    "    semieixoMenor = abs(centro[1]) \n",
    "    \n",
    "    if semieixoMenor > semieixoMaior:\n",
    "        semieixoMenor, semieixoMaior = semieixoMaior, semieixoMenor\n",
    "    \n",
    "    primeiroTermo = abs(centro[0])^2\n",
    "    segundoTermo = abs(centro[1])^2\n",
    "    \n",
    "    x,y = var('x','y')\n",
    "\n",
    "    # Equação para ser desenhada\n",
    "    drawEq = ((x - centro[0])^2)/primeiroTermo + ((y - centro[1])^2)/segundoTermo == 1\n",
    "    \n",
    "    # Equação para ser escrita\n",
    "    printeq = \"\\\\frac{{(x-\"+str(centro[0])+\")}^{2}}{\"+str(primeiroTermo)+\"} + \\\\frac{{(y-\"+str(centro[1])+\")}^{2}}{\"+str(segundoTermo)+\"} = 1\"\n",
    "    printeq = printeq.replace(\"--\",\"+\")\n",
    "    \n",
    "    printmd(f\"A equação da elipse com centro em ${centro}$ e tangente aos eixos coordenados é: ${printeq}$\")\n",
    "    \n",
    "    \n",
    "    desenho = implicit_plot(drawEq, [x,centro[0]-semieixoMaior-1,centro[0]+semieixoMaior+1], [y,centro[1]-semieixoMaior-1,centro[1]+semieixoMaior+1], axes=True)\n",
    "    show(desenho)\n",
    "    \n",
    "main()"
   ]
  },
  {
   "cell_type": "markdown",
   "metadata": {},
   "source": [
    "### 37) Heurística: \n",
    "\n",
    "Para obter as equações paramétricas de uma elipse precisamos saber o seu deslocamento e os seus semieixos.\n",
    "\n",
    "A equação no enunciado é dada na forma $n(x-h)^2 + m(y-k)^2 = o$\n",
    "\n",
    "Queremos colocar a equação na foma:\n",
    "\n",
    "$\\frac{(x-h)^2}{a^{2}} + \\frac{(y-k)^2}{b^{2}} = 1$\n",
    "\n",
    "Para fazer isto, basta dividirmos todos os termos por $o$\n",
    "\n",
    "Pois com os valores de $a$,$b$,$h$ e $k$, sabendo qual o semieixo maior, podemos escrever as equações paramétricas do\n",
    "tipo\n",
    "\n",
    "$x = h + a * cos{\\theta}$\n",
    "\n",
    "$y = k + b * cos{\\theta}$\n",
    "\n",
    "(a e b se invertem; o maior valor fica com o maior semieixo)"
   ]
  },
  {
   "cell_type": "code",
   "execution_count": 15,
   "metadata": {},
   "outputs": [
    {
     "name": "stdout",
     "output_type": "stream",
     "text": [
      "Insira a equacao da elipse (caso do livro: '9*(x-1)^2 + 25*(y+1)^2 = 225'): \n",
      "9*(x-1)^2 + 25*(y+1)^2 = 225\n"
     ]
    },
    {
     "data": {
      "text/markdown": [
       "Equação dividida: $1/25(x - 1)^2 + 1/9(y + 1)^2 = 1$"
      ],
      "text/plain": [
       "<IPython.core.display.Markdown object>"
      ]
     },
     "metadata": {},
     "output_type": "display_data"
    },
    {
     "name": "stdout",
     "output_type": "stream",
     "text": [
      "Equações paramétricas:\n"
     ]
    },
    {
     "data": {
      "text/markdown": [
       "$x = -1.0 + 5.0\\cos{\\theta}$"
      ],
      "text/plain": [
       "<IPython.core.display.Markdown object>"
      ]
     },
     "metadata": {},
     "output_type": "display_data"
    },
    {
     "data": {
      "text/markdown": [
       "$y = 1.0 + 3.0\\cos{\\theta}$"
      ],
      "text/plain": [
       "<IPython.core.display.Markdown object>"
      ]
     },
     "metadata": {},
     "output_type": "display_data"
    }
   ],
   "source": [
    "from IPython.display import Markdown, display \n",
    "\n",
    "def printmd(string: str): \n",
    "    display(Markdown(string))\n",
    "    \n",
    "def floatFromStr(string: str) -> float:\n",
    "    # Tenta calcular uma string que representa uma divisão ou um número qualquer\n",
    "    # Ex: '9/3' -> 3    '1/2' -> 0.5\n",
    "    try:\n",
    "        return float(string.replace(' ', ''))\n",
    "    except ValueError:\n",
    "        pts = string.split('/')\n",
    "        return float(pts[0]) / float(pts[1])\n",
    "    \n",
    "def main():\n",
    "    # Equação dada: 9(x-1)^2 + 25(y+1)^2 = 225\n",
    "    x,y = var('x','y')\n",
    "    \n",
    "    print(\"Insira a equacao da elipse (caso do livro: '9*(x-1)^2 + 25*(y+1)^2 = 225'): \")\n",
    "    # equacaoOriginal = 9 * (x-1)^2 + 25 * (y + 1)^2 == 225\n",
    "    equacaoOriginal = eval(input().replace('^','**').replace('==','=').replace('=','=='))\n",
    "    \n",
    "    equacaoDividida = equacaoOriginal.lhs() / equacaoOriginal.rhs() == 1\n",
    "    \n",
    "    printmd(f\"Equação dividida: ${equacaoDividida}$\".replace('==','=').replace('*',''))\n",
    "    \n",
    "    # Agora precisamos pegar os valores que dividem os termos, i.e, a^2 e b^2\n",
    "    \n",
    "    divisaoA = str(equacaoDividida).split('*')[0]\n",
    "    A2 = floatFromStr(divisaoA)\n",
    "    primeiroTermo = sqrt(1/A2)\n",
    "    \n",
    "    divisaoB = str(equacaoDividida).split('*')[1].replace('-','+-').split('+')[-1]\n",
    "    B2 = floatFromStr(divisaoB)\n",
    "    segundoTermo = sqrt(1/B2)\n",
    "    \n",
    "    # Agora pegamos h e k\n",
    "    \n",
    "    h = str(equacaoDividida).split(')')[0].replace('-','+-').split('+')[-1]\n",
    "    h = floatFromStr(h)\n",
    "    \n",
    "    k = str(equacaoDividida).split(')')[1].replace('-','+-').split('+')[-1]\n",
    "    k = floatFromStr(k)\n",
    "    \n",
    "    print(\"Equações paramétricas:\")\n",
    "    printmd(f\"$x = {h} + {primeiroTermo}\\\\cos{{\\\\theta}}$\".replace('+ -', '-'))\n",
    "    printmd(f\"$y = {k} + {segundoTermo}\\\\cos{{\\\\theta}}$\".replace('+ -', '-'))\n",
    "    \n",
    "main()"
   ]
  },
  {
   "cell_type": "markdown",
   "metadata": {},
   "source": [
    "### 47)  Heurística: \n",
    "\n",
    "Como sabemos que o seu centro é $(0,0)$ e que a elipse tem seu eixo maior sobre o eixo Oy, temos a equação:\n",
    "\n",
    "$\\frac{x^{2}}{b^{2}}+\\frac{y^{2}}{a^{2}} = 1$ (a>b)\n",
    "\n",
    "Como temos dois pontos de dados e duas variáveis, podemos montar um sistema de equações para achar a e b e montar a equação de nossa elipse."
   ]
  },
  {
   "cell_type": "code",
   "execution_count": 19,
   "metadata": {},
   "outputs": [
    {
     "name": "stdout",
     "output_type": "stream",
     "text": [
      "Insira o primeiro ponto que a parabola passa (caso do livro: '1,sqrt(14)'): \n",
      "1,sqrt(14)\n",
      "Insira o primeiro ponto que a parabola passa (caso do livro: '2,-2 * sqrt(2)'): \n",
      "2,-2 * sqrt(2)\n"
     ]
    },
    {
     "data": {
      "text/markdown": [
       "Equação reduzida da parábola: $1/8x^2 + 1/16y^2 = 1$"
      ],
      "text/plain": [
       "<IPython.core.display.Markdown object>"
      ]
     },
     "metadata": {},
     "output_type": "display_data"
    }
   ],
   "source": [
    "from IPython.display import Markdown, display  # Biblioteca do jupyter para printar markdown\n",
    "\n",
    "def printmd(string: str): \n",
    "    display(Markdown(string))\n",
    "\n",
    "def main():    \n",
    "    a,b,x,y = var('a','b','x','y')\n",
    "    \n",
    "    equacaoReduzida = (x^2)/(b^2) + (y^2)/(a^2) == 1\n",
    "    \n",
    "    # Pontos que a parábola passa\n",
    "    \n",
    "    pontos = []\n",
    "    \n",
    "    print(\"Insira o primeiro ponto que a parabola passa (caso do livro: '1,sqrt(14)'): \")\n",
    "    pontos.append(list(map(eval,input().split(','))))\n",
    "    print(\"Insira o primeiro ponto que a parabola passa (caso do livro: '2,-2 * sqrt(2)'): \")\n",
    "    pontos.append(list(map(eval,input().split(','))))\n",
    "    # pontos.append([1,sqrt(14)])\n",
    "    # pontos.append([2,-2 * sqrt(2)])\n",
    "    \n",
    "    eqs = []\n",
    "    for pto in pontos:\n",
    "        eqs.append(equacaoReduzida.subs(x=pto[0],y=pto[1]))\n",
    "    \n",
    "    res = solve(eqs,a,b)\n",
    "    \n",
    "    validos = []\n",
    "    for result in res:\n",
    "        # Descartamos valores negativos e nulos - pois a e b estão elevados ao quadrado e no denominador\n",
    "        if result[0].rhs() <= 0 or result[1].rhs() <= 0:\n",
    "            continue\n",
    "        validos.append(result)\n",
    "    \n",
    "    ra = validos[0][0].rhs()\n",
    "    rb = validos[0][1].rhs()\n",
    "    \n",
    "    printmd(f\"Equação reduzida da parábola: ${equacaoReduzida.subs(a=ra,b=rb)}$\".replace('*','').replace('==','='))\n",
    "    \n",
    "main()"
   ]
  },
  {
   "cell_type": "markdown",
   "metadata": {},
   "source": [
    "Obs: [Referências markdown usadas](https://csrgxtu.github.io/2015/03/20/Writing-Mathematic-Fomulars-in-Markdown/)"
   ]
  },
  {
   "cell_type": "code",
   "execution_count": null,
   "metadata": {},
   "outputs": [],
   "source": []
  }
 ],
 "metadata": {
  "kernelspec": {
   "display_name": "SageMath 9.3",
   "language": "sage",
   "name": "sagemath"
  },
  "language_info": {
   "codemirror_mode": {
    "name": "ipython",
    "version": 3
   },
   "file_extension": ".py",
   "mimetype": "text/x-python",
   "name": "python",
   "nbconvert_exporter": "python",
   "pygments_lexer": "ipython3",
   "version": "3.7.10"
  }
 },
 "nbformat": 4,
 "nbformat_minor": 4
}
